{
  "nbformat": 4,
  "nbformat_minor": 0,
  "metadata": {
    "colab": {
      "provenance": [],
      "gpuType": "T4",
      "authorship_tag": "ABX9TyMhGTiBJtUgJ2JnCPmLy/xJ",
      "include_colab_link": true
    },
    "kernelspec": {
      "name": "python3",
      "display_name": "Python 3"
    },
    "language_info": {
      "name": "python"
    },
    "accelerator": "GPU"
  },
  "cells": [
    {
      "cell_type": "markdown",
      "metadata": {
        "id": "view-in-github",
        "colab_type": "text"
      },
      "source": [
        "<a href=\"https://colab.research.google.com/github/LaraV15/ComputerVision/blob/main/TP-Final-Datasets.ipynb\" target=\"_parent\"><img src=\"https://colab.research.google.com/assets/colab-badge.svg\" alt=\"Open In Colab\"/></a>"
      ]
    },
    {
      "cell_type": "markdown",
      "source": [
        "#Librerías y entorno"
      ],
      "metadata": {
        "id": "z2NrHVHphKiF"
      }
    },
    {
      "cell_type": "code",
      "source": [
        "!pip install mediapipe"
      ],
      "metadata": {
        "colab": {
          "base_uri": "https://localhost:8080/"
        },
        "id": "Du-fpEjhl_AT",
        "outputId": "36ad99be-9c78-4447-8d7c-af7e5371d6cb"
      },
      "execution_count": 1,
      "outputs": [
        {
          "output_type": "stream",
          "name": "stdout",
          "text": [
            "Collecting mediapipe\n",
            "  Downloading mediapipe-0.10.18-cp310-cp310-manylinux_2_17_x86_64.manylinux2014_x86_64.whl.metadata (9.7 kB)\n",
            "Requirement already satisfied: absl-py in /usr/local/lib/python3.10/dist-packages (from mediapipe) (1.4.0)\n",
            "Requirement already satisfied: attrs>=19.1.0 in /usr/local/lib/python3.10/dist-packages (from mediapipe) (24.2.0)\n",
            "Requirement already satisfied: flatbuffers>=2.0 in /usr/local/lib/python3.10/dist-packages (from mediapipe) (24.3.25)\n",
            "Requirement already satisfied: jax in /usr/local/lib/python3.10/dist-packages (from mediapipe) (0.4.33)\n",
            "Requirement already satisfied: jaxlib in /usr/local/lib/python3.10/dist-packages (from mediapipe) (0.4.33)\n",
            "Requirement already satisfied: matplotlib in /usr/local/lib/python3.10/dist-packages (from mediapipe) (3.8.0)\n",
            "Requirement already satisfied: numpy<2 in /usr/local/lib/python3.10/dist-packages (from mediapipe) (1.26.4)\n",
            "Requirement already satisfied: opencv-contrib-python in /usr/local/lib/python3.10/dist-packages (from mediapipe) (4.10.0.84)\n",
            "Requirement already satisfied: protobuf<5,>=4.25.3 in /usr/local/lib/python3.10/dist-packages (from mediapipe) (4.25.5)\n",
            "Collecting sounddevice>=0.4.4 (from mediapipe)\n",
            "  Downloading sounddevice-0.5.1-py3-none-any.whl.metadata (1.4 kB)\n",
            "Requirement already satisfied: sentencepiece in /usr/local/lib/python3.10/dist-packages (from mediapipe) (0.2.0)\n",
            "Requirement already satisfied: CFFI>=1.0 in /usr/local/lib/python3.10/dist-packages (from sounddevice>=0.4.4->mediapipe) (1.17.1)\n",
            "Requirement already satisfied: ml-dtypes>=0.2.0 in /usr/local/lib/python3.10/dist-packages (from jax->mediapipe) (0.4.1)\n",
            "Requirement already satisfied: opt-einsum in /usr/local/lib/python3.10/dist-packages (from jax->mediapipe) (3.4.0)\n",
            "Requirement already satisfied: scipy>=1.10 in /usr/local/lib/python3.10/dist-packages (from jax->mediapipe) (1.13.1)\n",
            "Requirement already satisfied: contourpy>=1.0.1 in /usr/local/lib/python3.10/dist-packages (from matplotlib->mediapipe) (1.3.1)\n",
            "Requirement already satisfied: cycler>=0.10 in /usr/local/lib/python3.10/dist-packages (from matplotlib->mediapipe) (0.12.1)\n",
            "Requirement already satisfied: fonttools>=4.22.0 in /usr/local/lib/python3.10/dist-packages (from matplotlib->mediapipe) (4.55.0)\n",
            "Requirement already satisfied: kiwisolver>=1.0.1 in /usr/local/lib/python3.10/dist-packages (from matplotlib->mediapipe) (1.4.7)\n",
            "Requirement already satisfied: packaging>=20.0 in /usr/local/lib/python3.10/dist-packages (from matplotlib->mediapipe) (24.2)\n",
            "Requirement already satisfied: pillow>=6.2.0 in /usr/local/lib/python3.10/dist-packages (from matplotlib->mediapipe) (11.0.0)\n",
            "Requirement already satisfied: pyparsing>=2.3.1 in /usr/local/lib/python3.10/dist-packages (from matplotlib->mediapipe) (3.2.0)\n",
            "Requirement already satisfied: python-dateutil>=2.7 in /usr/local/lib/python3.10/dist-packages (from matplotlib->mediapipe) (2.8.2)\n",
            "Requirement already satisfied: pycparser in /usr/local/lib/python3.10/dist-packages (from CFFI>=1.0->sounddevice>=0.4.4->mediapipe) (2.22)\n",
            "Requirement already satisfied: six>=1.5 in /usr/local/lib/python3.10/dist-packages (from python-dateutil>=2.7->matplotlib->mediapipe) (1.16.0)\n",
            "Downloading mediapipe-0.10.18-cp310-cp310-manylinux_2_17_x86_64.manylinux2014_x86_64.whl (36.1 MB)\n",
            "\u001b[2K   \u001b[90m━━━━━━━━━━━━━━━━━━━━━━━━━━━━━━━━━━━━━━━━\u001b[0m \u001b[32m36.1/36.1 MB\u001b[0m \u001b[31m52.0 MB/s\u001b[0m eta \u001b[36m0:00:00\u001b[0m\n",
            "\u001b[?25hDownloading sounddevice-0.5.1-py3-none-any.whl (32 kB)\n",
            "Installing collected packages: sounddevice, mediapipe\n",
            "Successfully installed mediapipe-0.10.18 sounddevice-0.5.1\n"
          ]
        }
      ]
    },
    {
      "cell_type": "code",
      "source": [
        "import pandas as pd\n",
        "import numpy as np\n",
        "import matplotlib.pyplot as plt\n",
        "import cv2\n",
        "import mediapipe as mp\n",
        "from tqdm import tqdm\n",
        "from google.colab import files\n"
      ],
      "metadata": {
        "id": "ZROzoKvihKVp"
      },
      "execution_count": 18,
      "outputs": []
    },
    {
      "cell_type": "code",
      "source": [
        "!git clone https://github.com/LaraV15/ComputerVision.git\n"
      ],
      "metadata": {
        "colab": {
          "base_uri": "https://localhost:8080/"
        },
        "id": "J6959uXjnWAv",
        "outputId": "5eb072a7-be3e-4144-8c83-9cb4834164b4"
      },
      "execution_count": 3,
      "outputs": [
        {
          "output_type": "stream",
          "name": "stdout",
          "text": [
            "Cloning into 'ComputerVision'...\n",
            "remote: Enumerating objects: 13, done.\u001b[K\n",
            "remote: Counting objects: 100% (13/13), done.\u001b[K\n",
            "remote: Compressing objects: 100% (9/9), done.\u001b[K\n",
            "remote: Total 13 (delta 0), reused 10 (delta 0), pack-reused 0 (from 0)\u001b[K\n",
            "Receiving objects: 100% (13/13), 30.09 MiB | 3.28 MiB/s, done.\n"
          ]
        }
      ]
    },
    {
      "cell_type": "markdown",
      "source": [
        "# Dataset"
      ],
      "metadata": {
        "id": "cWHbcHk0hSw3"
      }
    },
    {
      "cell_type": "code",
      "execution_count": 4,
      "metadata": {
        "colab": {
          "base_uri": "https://localhost:8080/"
        },
        "id": "EZaFPws2hHYN",
        "outputId": "429ed5a2-8f35-4516-b9bd-715da6d78c32"
      },
      "outputs": [
        {
          "output_type": "stream",
          "name": "stdout",
          "text": [
            "   label  pixel1  pixel2  pixel3  pixel4  pixel5  pixel6  pixel7  pixel8  \\\n",
            "0      3     107     118     127     134     139     143     146     150   \n",
            "1      6     155     157     156     156     156     157     156     158   \n",
            "2      2     187     188     188     187     187     186     187     188   \n",
            "3      2     211     211     212     212     211     210     211     210   \n",
            "4     13     164     167     170     172     176     179     180     184   \n",
            "\n",
            "   pixel9  ...  pixel775  pixel776  pixel777  pixel778  pixel779  pixel780  \\\n",
            "0     153  ...       207       207       207       207       206       206   \n",
            "1     158  ...        69       149       128        87        94       163   \n",
            "2     187  ...       202       201       200       199       198       199   \n",
            "3     210  ...       235       234       233       231       230       226   \n",
            "4     185  ...        92       105       105       108       133       163   \n",
            "\n",
            "   pixel781  pixel782  pixel783  pixel784  \n",
            "0       206       204       203       202  \n",
            "1       175       103       135       149  \n",
            "2       198       195       194       195  \n",
            "3       225       222       229       163  \n",
            "4       157       163       164       179  \n",
            "\n",
            "[5 rows x 785 columns]\n"
          ]
        }
      ],
      "source": [
        "# URLs del dataset\n",
        "train_url = \"https://raw.githubusercontent.com/LaraV15/ComputerVision/refs/heads/main/dataset/sign_mnist_train.csv\"\n",
        "test_url = \"https://raw.githubusercontent.com/LaraV15/ComputerVision/refs/heads/main/dataset/sign_mnist_test.csv\"\n",
        "\n",
        "# Leer los datos\n",
        "train_data = pd.read_csv(train_url)\n",
        "test_data = pd.read_csv(test_url)\n",
        "\n",
        "print(train_data.head())\n"
      ]
    },
    {
      "cell_type": "markdown",
      "source": [
        "Vamos a mostrar algunas imágenes del dataset"
      ],
      "metadata": {
        "id": "LVsNRM6nh06r"
      }
    },
    {
      "cell_type": "code",
      "source": [
        "# Separar etiquetas y píxeles\n",
        "y_train = train_data['label'].values\n",
        "X_train = train_data.drop('label', axis=1).values\n",
        "\n",
        "# Normalizar los datos (opcional: escala de 0 a 1)\n",
        "X_train = X_train / 255.0\n",
        "\n",
        "# Transformar cada fila a una matriz de 28x28\n",
        "X_train_images = X_train.reshape(-1, 28, 28)\n",
        "\n",
        "\n",
        "# Mostrar un conjunto de imágenes\n",
        "def plot_images(images, labels, num_images=9):\n",
        "    plt.figure(figsize=(8, 8))\n",
        "    for i in range(num_images):\n",
        "        plt.subplot(3, 3, i + 1)\n",
        "        plt.imshow(images[i], cmap='gray')\n",
        "        plt.title(f\"Label: {labels[i]}\")\n",
        "        plt.axis('off')\n",
        "    plt.tight_layout()\n",
        "    plt.show()\n",
        "\n",
        "# Visualizar 9 imágenes de ejemplo\n",
        "plot_images(X_train_images, y_train, num_images=9)\n"
      ],
      "metadata": {
        "colab": {
          "base_uri": "https://localhost:8080/",
          "height": 0
        },
        "id": "32jIqfL_h3VR",
        "outputId": "79cf7f06-bdb6-4d91-92d7-c9db0a31be0e"
      },
      "execution_count": 5,
      "outputs": [
        {
          "output_type": "display_data",
          "data": {
            "text/plain": [
              "<Figure size 800x800 with 9 Axes>"
            ],
            "image/png": "[encoded data removed]"
          },
          "metadata": {}
        }
      ]
    },
    {
      "cell_type": "markdown",
      "source": [
        "Mostramos las etiquetas correspondientes"
      ],
      "metadata": {
        "id": "5iLpVW7PiWzA"
      }
    },
    {
      "cell_type": "code",
      "source": [
        "# Diccionario de mapeo\n",
        "label_to_letter = {\n",
        "    0: 'A', 1: 'B', 2: 'C', 3: 'D', 4: 'E', 5: 'F', 6: 'G',\n",
        "    7: 'H', 8: 'I', 9: 'K', 10: 'L', 11: 'M', 12: 'N', 13: 'O',\n",
        "    14: 'P', 15: 'Q', 16: 'R', 17: 'S', 18: 'T', 19: 'U',\n",
        "    20: 'V', 21: 'W', 22: 'X', 23: 'Y'\n",
        "}\n",
        "\n",
        "# Ejemplo: Convertir labels a letras\n",
        "labels = [3, 6, 2, 13, 16]  # Labels de ejemplo\n",
        "letters = [label_to_letter[label] for label in labels]\n",
        "\n",
        "print(\"Labels:\", labels)\n",
        "print(\"Letras:\", letters)\n"
      ],
      "metadata": {
        "colab": {
          "base_uri": "https://localhost:8080/"
        },
        "id": "9GWIdx1LiQc2",
        "outputId": "4b936179-6844-439f-92c1-014b4f19f2e3"
      },
      "execution_count": 6,
      "outputs": [
        {
          "output_type": "stream",
          "name": "stdout",
          "text": [
            "Labels: [3, 6, 2, 13, 16]\n",
            "Letras: ['D', 'G', 'C', 'O', 'R']\n"
          ]
        }
      ]
    },
    {
      "cell_type": "code",
      "source": [
        "def plot_images_with_letters(images, labels, num_images=9):\n",
        "    plt.figure(figsize=(8, 8))\n",
        "    for i in range(num_images):\n",
        "        plt.subplot(3, 3, i + 1)\n",
        "        plt.imshow(images[i], cmap='gray')\n",
        "        letter = label_to_letter[labels[i]]\n",
        "        plt.title(f\"Label: {labels[i]} ({letter})\")\n",
        "        plt.axis('off')\n",
        "    plt.tight_layout()\n",
        "    plt.show()\n",
        "\n",
        "# Visualizar con letras\n",
        "plot_images_with_letters(X_train_images, y_train, num_images=9)\n"
      ],
      "metadata": {
        "colab": {
          "base_uri": "https://localhost:8080/",
          "height": 0
        },
        "id": "kf7vK-9HiTlZ",
        "outputId": "9c52a958-ecf5-40c3-fccd-5ad24fc0c2a2"
      },
      "execution_count": 7,
      "outputs": [
        {
          "output_type": "display_data",
          "data": {
            "text/plain": [
              "<Figure size 800x800 with 9 Axes>"
            ],
            "image/png": "[encoded data removed]"
          },
          "metadata": {}
        }
      ]
    },
    {
      "cell_type": "code",
      "source": [
        "# Ver cantidad de datos\n",
        "print(f\"Datos de entrenamiento: {len(train_data)}\")\n",
        "print(f\"Datos de prueba: {len(test_data)}\")"
      ],
      "metadata": {
        "colab": {
          "base_uri": "https://localhost:8080/"
        },
        "id": "zJl53ZO2j0IR",
        "outputId": "9db097b1-f47e-4d11-9b40-a7d16a333474"
      },
      "execution_count": 8,
      "outputs": [
        {
          "output_type": "stream",
          "name": "stdout",
          "text": [
            "Datos de entrenamiento: 27455\n",
            "Datos de prueba: 7172\n"
          ]
        }
      ]
    },
    {
      "cell_type": "code",
      "source": [
        "# Contar las clases y convertir labels a letras\n",
        "train_class_counts = train_data['label'].value_counts().sort_index().rename(index=label_to_letter)\n",
        "test_class_counts = test_data['label'].value_counts().sort_index().rename(index=label_to_letter)\n",
        "\n",
        "# Imprimir resultados\n",
        "print(\"Clases en el conjunto de entrenamiento:\")\n",
        "print(train_class_counts)\n",
        "\n",
        "print(\"\\nClases en el conjunto de prueba:\")\n",
        "print(test_class_counts)\n"
      ],
      "metadata": {
        "colab": {
          "base_uri": "https://localhost:8080/"
        },
        "id": "0nanb75aj9Li",
        "outputId": "99dcb78b-0705-4c1d-f914-2dc7c3e10431"
      },
      "execution_count": 9,
      "outputs": [
        {
          "output_type": "stream",
          "name": "stdout",
          "text": [
            "Clases en el conjunto de entrenamiento:\n",
            "label\n",
            "A     1126\n",
            "B     1010\n",
            "C     1144\n",
            "D     1196\n",
            "E      957\n",
            "F     1204\n",
            "G     1090\n",
            "H     1013\n",
            "I     1162\n",
            "L     1114\n",
            "M     1241\n",
            "N     1055\n",
            "O     1151\n",
            "P     1196\n",
            "Q     1088\n",
            "R     1279\n",
            "S     1294\n",
            "T     1199\n",
            "U     1186\n",
            "V     1161\n",
            "W     1082\n",
            "X     1225\n",
            "Y     1164\n",
            "24    1118\n",
            "Name: count, dtype: int64\n",
            "\n",
            "Clases en el conjunto de prueba:\n",
            "label\n",
            "A     331\n",
            "B     432\n",
            "C     310\n",
            "D     245\n",
            "E     498\n",
            "F     247\n",
            "G     348\n",
            "H     436\n",
            "I     288\n",
            "L     331\n",
            "M     209\n",
            "N     394\n",
            "O     291\n",
            "P     246\n",
            "Q     347\n",
            "R     164\n",
            "S     144\n",
            "T     246\n",
            "U     248\n",
            "V     266\n",
            "W     346\n",
            "X     206\n",
            "Y     267\n",
            "24    332\n",
            "Name: count, dtype: int64\n"
          ]
        }
      ]
    },
    {
      "cell_type": "code",
      "source": [
        "# Visualizar distribución\n",
        "train_class_counts.plot(kind='bar', figsize=(10, 6), color='skyblue', alpha=0.7)\n",
        "plt.title(\"Distribución de clases en el conjunto de entrenamiento\")\n",
        "plt.xlabel(\"Clase (Label)\")\n",
        "plt.ylabel(\"Cantidad de imágenes\")\n",
        "plt.show()\n"
      ],
      "metadata": {
        "colab": {
          "base_uri": "https://localhost:8080/",
          "height": 0
        },
        "id": "tVc8SYgKkFPA",
        "outputId": "475693e5-5cb4-4633-dcd6-6c6eada8e88e"
      },
      "execution_count": 10,
      "outputs": [
        {
          "output_type": "display_data",
          "data": {
            "text/plain": [
              "<Figure size 1000x600 with 1 Axes>"
            ],
            "image/png": "[encoded data removed]"
          },
          "metadata": {}
        }
      ]
    },
    {
      "cell_type": "markdown",
      "source": [
        "# Dataset con landmarks"
      ],
      "metadata": {
        "id": "_TUtflcAlzw6"
      }
    },
    {
      "cell_type": "code",
      "source": [
        "# Inicializar MediaPipe Hands\n",
        "mp_hands = mp.solutions.hands\n",
        "hands = mp_hands.Hands(static_image_mode=True, max_num_hands=1, min_detection_confidence=0.5)\n",
        "mp_drawing = mp.solutions.drawing_utils"
      ],
      "metadata": {
        "id": "JNY7VHoPoUaC"
      },
      "execution_count": 11,
      "outputs": []
    },
    {
      "cell_type": "code",
      "source": [
        "# Función para procesar imágenes y extraer landmarks\n",
        "def process_image(pixels, label):\n",
        "    # Convertir píxeles a una imagen 28x28\n",
        "    image = np.array(pixels, dtype=np.uint8).reshape(28, 28)\n",
        "\n",
        "    # Convertir a RGB\n",
        "    image_rgb = cv2.cvtColor(image, cv2.COLOR_GRAY2RGB)\n",
        "\n",
        "    # Procesar la imagen con MediaPipe\n",
        "    results = hands.process(image_rgb)\n",
        "\n",
        "    # Si se detectan landmarks, extraerlos\n",
        "    if results.multi_hand_landmarks:\n",
        "        landmarks = []\n",
        "        for hand_landmarks in results.multi_hand_landmarks:\n",
        "            for lm in hand_landmarks.landmark:\n",
        "                landmarks.extend([lm.x, lm.y, lm.z])\n",
        "        return [label] + landmarks\n",
        "    return None  # Si no se detectan landmarks, devolver None\n"
      ],
      "metadata": {
        "id": "p5LL1Ag9lhjK"
      },
      "execution_count": 12,
      "outputs": []
    },
    {
      "cell_type": "code",
      "source": [
        "# Procesar todas las imágenes del dataset\n",
        "def create_landmarks_dataset(data, output_file):\n",
        "    dataset = []\n",
        "    for _, row in tqdm(data.iterrows(), total=len(data)):\n",
        "        # Extraer píxeles y etiqueta\n",
        "        label = row['label']\n",
        "        pixels = row.iloc[1:]  # Los píxeles están desde la segunda columna en adelante\n",
        "\n",
        "        # Procesar imagen y obtener landmarks\n",
        "        processed_data = process_image(pixels, label)\n",
        "        if processed_data:\n",
        "            dataset.append(processed_data)\n",
        "\n",
        "    # Crear un DataFrame y guardar\n",
        "    columns = ['label'] + [f\"landmark_{i}\" for i in range(63)]  # 21 puntos clave * 3 coordenadas (x, y, z)\n",
        "    df = pd.DataFrame(dataset, columns=columns)\n",
        "    df.to_csv(output_file, index=False)\n",
        "    print(f\"Nuevo dataset guardado en {output_file}\")\n",
        "\n",
        "# Crear dataset de entrenamiento\n",
        "create_landmarks_dataset(train_data, \"train_landmarks.csv\")\n",
        "\n",
        "# Crear dataset de prueba\n",
        "create_landmarks_dataset(test_data, \"test_landmarks.csv\")\n",
        "\n",
        "# Liberar recursos de MediaPipe\n",
        "hands.close()\n"
      ],
      "metadata": {
        "colab": {
          "base_uri": "https://localhost:8080/"
        },
        "id": "jzPPTspKnDGx",
        "outputId": "ccf77d7b-ba49-48ea-d52c-3693a0c9bee6"
      },
      "execution_count": 13,
      "outputs": [
        {
          "output_type": "stream",
          "name": "stderr",
          "text": [
            "100%|██████████| 27455/27455 [13:47<00:00, 33.18it/s]\n"
          ]
        },
        {
          "output_type": "stream",
          "name": "stdout",
          "text": [
            "Nuevo dataset guardado en train_landmarks.csv\n"
          ]
        },
        {
          "output_type": "stream",
          "name": "stderr",
          "text": [
            "100%|██████████| 7172/7172 [03:38<00:00, 32.78it/s]"
          ]
        },
        {
          "output_type": "stream",
          "name": "stdout",
          "text": [
            "Nuevo dataset guardado en test_landmarks.csv\n"
          ]
        },
        {
          "output_type": "stream",
          "name": "stderr",
          "text": [
            "\n"
          ]
        }
      ]
    },
    {
      "cell_type": "code",
      "source": [
        "!mv test_landmarks.csv ComputerVision/\n",
        "!mv train_landmarks.csv ComputerVision/"
      ],
      "metadata": {
        "id": "FQ1WxRYxuDB_"
      },
      "execution_count": 14,
      "outputs": []
    },
    {
      "cell_type": "code",
      "source": [
        "!git config --global user.email \"laravaleri15@gmail.com\"\n",
        "!git config --global user.name \"LaraV15\""
      ],
      "metadata": {
        "id": "Vvm4bI9uuZbb"
      },
      "execution_count": 15,
      "outputs": []
    },
    {
      "cell_type": "code",
      "source": [
        "# Cambia al directorio del repositorio\n",
        "%cd /content/ComputerVision\n",
        "\n",
        "# Agrega los archivos al índice\n",
        "!git add train_landmarks.csv test_landmarks.csv\n",
        "\n",
        "# Crea un commit con un mensaje\n",
        "!git commit -m \"Dataset with landmarks\"\n",
        "\n",
        "# Sube los cambios al repositorio remoto\n",
        "!git push origin main\n"
      ],
      "metadata": {
        "colab": {
          "base_uri": "https://localhost:8080/"
        },
        "id": "YlFc6nZxnn6V",
        "outputId": "0dc4ef0f-e77e-4c63-dd7b-cc224f878e58"
      },
      "execution_count": 16,
      "outputs": [
        {
          "output_type": "stream",
          "name": "stdout",
          "text": [
            "/content/ComputerVision\n",
            "[main 87cd10a] Dataset with landmarks\n",
            " 2 files changed, 464 insertions(+)\n",
            " create mode 100644 test_landmarks.csv\n",
            " create mode 100644 train_landmarks.csv\n",
            "fatal: could not read Username for 'https://github.com': No such device or address\n"
          ]
        }
      ]
    },
    {
      "cell_type": "code",
      "source": [
        "# Además descargados los dataset\n",
        "files.download(\"train_landmarks.csv\")\n",
        "files.download(\"test_landmarks.csv\")\n"
      ],
      "metadata": {
        "colab": {
          "base_uri": "https://localhost:8080/",
          "height": 17
        },
        "id": "cUY0kL5t3jLB",
        "outputId": "ce84be60-fa74-4154-a1d7-4494b8daca2c"
      },
      "execution_count": 19,
      "outputs": [
        {
          "output_type": "display_data",
          "data": {
            "text/plain": [
              "<IPython.core.display.Javascript object>"
            ],
            "application/javascript": [
              "\n",
              "    async function download(id, filename, size) {\n",
              "      if (!google.colab.kernel.accessAllowed) {\n",
              "        return;\n",
              "      }\n",
              "      const div = document.createElement('div');\n",
              "      const label = document.createElement('label');\n",
              "      label.textContent = `Downloading \"${filename}\": `;\n",
              "      div.appendChild(label);\n",
              "      const progress = document.createElement('progress');\n",
              "      progress.max = size;\n",
              "      div.appendChild(progress);\n",
              "      document.body.appendChild(div);\n",
              "\n",
              "      const buffers = [];\n",
              "      let downloaded = 0;\n",
              "\n",
              "      const channel = await google.colab.kernel.comms.open(id);\n",
              "      // Send a message to notify the kernel that we're ready.\n",
              "      channel.send({})\n",
              "\n",
              "      for await (const message of channel.messages) {\n",
              "        // Send a message to notify the kernel that we're ready.\n",
              "        channel.send({})\n",
              "        if (message.buffers) {\n",
              "          for (const buffer of message.buffers) {\n",
              "            buffers.push(buffer);\n",
              "            downloaded += buffer.byteLength;\n",
              "            progress.value = downloaded;\n",
              "          }\n",
              "        }\n",
              "      }\n",
              "      const blob = new Blob(buffers, {type: 'application/binary'});\n",
              "      const a = document.createElement('a');\n",
              "      a.href = window.URL.createObjectURL(blob);\n",
              "      a.download = filename;\n",
              "      div.appendChild(a);\n",
              "      a.click();\n",
              "      div.remove();\n",
              "    }\n",
              "  "
            ]
          },
          "metadata": {}
        },
        {
          "output_type": "display_data",
          "data": {
            "text/plain": [
              "<IPython.core.display.Javascript object>"
            ],
            "application/javascript": [
              "download(\"download_1440dcf2-f1b8-4272-a749-3baf24b4b7dd\", \"train_landmarks.csv\", 419164)"
            ]
          },
          "metadata": {}
        },
        {
          "output_type": "display_data",
          "data": {
            "text/plain": [
              "<IPython.core.display.Javascript object>"
            ],
            "application/javascript": [
              "\n",
              "    async function download(id, filename, size) {\n",
              "      if (!google.colab.kernel.accessAllowed) {\n",
              "        return;\n",
              "      }\n",
              "      const div = document.createElement('div');\n",
              "      const label = document.createElement('label');\n",
              "      label.textContent = `Downloading \"${filename}\": `;\n",
              "      div.appendChild(label);\n",
              "      const progress = document.createElement('progress');\n",
              "      progress.max = size;\n",
              "      div.appendChild(progress);\n",
              "      document.body.appendChild(div);\n",
              "\n",
              "      const buffers = [];\n",
              "      let downloaded = 0;\n",
              "\n",
              "      const channel = await google.colab.kernel.comms.open(id);\n",
              "      // Send a message to notify the kernel that we're ready.\n",
              "      channel.send({})\n",
              "\n",
              "      for await (const message of channel.messages) {\n",
              "        // Send a message to notify the kernel that we're ready.\n",
              "        channel.send({})\n",
              "        if (message.buffers) {\n",
              "          for (const buffer of message.buffers) {\n",
              "            buffers.push(buffer);\n",
              "            downloaded += buffer.byteLength;\n",
              "            progress.value = downloaded;\n",
              "          }\n",
              "        }\n",
              "      }\n",
              "      const blob = new Blob(buffers, {type: 'application/binary'});\n",
              "      const a = document.createElement('a');\n",
              "      a.href = window.URL.createObjectURL(blob);\n",
              "      a.download = filename;\n",
              "      div.appendChild(a);\n",
              "      a.click();\n",
              "      div.remove();\n",
              "    }\n",
              "  "
            ]
          },
          "metadata": {}
        },
        {
          "output_type": "display_data",
          "data": {
            "text/plain": [
              "<IPython.core.display.Javascript object>"
            ],
            "application/javascript": [
              "download(\"download_da710856-ce36-4420-9376-5037391a9bc8\", \"test_landmarks.csv\", 160652)"
            ]
          },
          "metadata": {}
        }
      ]
    }
  ]
}